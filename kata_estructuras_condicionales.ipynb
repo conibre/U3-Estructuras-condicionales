{
  "nbformat": 4,
  "nbformat_minor": 0,
  "metadata": {
    "colab": {
      "provenance": [],
      "include_colab_link": true
    },
    "kernelspec": {
      "name": "python3",
      "display_name": "Python 3"
    },
    "language_info": {
      "name": "python"
    }
  },
  "cells": [
    {
      "cell_type": "markdown",
      "metadata": {
        "id": "view-in-github",
        "colab_type": "text"
      },
      "source": [
        "<a href=\"https://colab.research.google.com/github/conibre/U3-Estructuras-condicionales/blob/main/kata_estructuras_condicionales.ipynb\" target=\"_parent\"><img src=\"https://colab.research.google.com/assets/colab-badge.svg\" alt=\"Open In Colab\"/></a>"
      ]
    },
    {
      "cell_type": "markdown",
      "source": [
        "# 🧠💡 Kata: Estructuras Condicionales\n",
        "Esta kata está diseñada para ayudarte a practicar estructuras condicionales en Python. ¡Comencemos con los ejercicios!"
      ],
      "metadata": {
        "id": "RyTGD3LJjVL-"
      }
    },
    {
      "cell_type": "markdown",
      "source": [
        "## 🔐 Ejercicio 1: Validación de contraseña"
      ],
      "metadata": {
        "id": "5Y-g75vxjbNv"
      }
    },
    {
      "cell_type": "markdown",
      "source": [
        "El programa inicializa la variable **contrasena_correcta** en \"programacion1\". Luego pide al usuario que ingrese una contraseña y compara ese valor con **contrasena_correcta**. Si el valor ingresado es igual al valor de contrasena_correcta, imprime por pantalla \"Contraseña correcta. Bienvenido.\". En caso contrario, imprime por pantalla \"Contraseña incorrecta. Intenta de nuevo.\"."
      ],
      "metadata": {
        "id": "unGV6TvKkFK1"
      }
    },
    {
      "cell_type": "markdown",
      "source": [
        "## 🔤 Ejercicio 2: Identificador de vocales\n",
        "\n",
        "NOTA: para este ejercicio nos concentraremos en detectar únicamente vocales sin acentos."
      ],
      "metadata": {
        "id": "c91GswS-kFDM"
      }
    },
    {
      "cell_type": "code",
      "source": [
        "# Solicitamos una letra al usuario\n",
        "letra = input(\"Ingresa una letra: \")\n",
        "\n",
        "# Convertimos la letra ingresada en minúscula para únicamente realizar la comparación con vocales en minúscula. Esto optimiza el código.\n",
        "\n",
        "letra_minuscula = letra.lower()\n",
        "\n",
        "# Si la letra ingresada es una vocal imprimimos por pantalla \"La letra ingresada es una vocal\"\n",
        "if letra_minuscula in ['a', 'e', 'i', 'o', 'u']:\n",
        "    print(\"La letra ingresada es una vocal\")\n",
        "# En cualquier otro caso, imprimimos por pantalla\n",
        "else:\n",
        "    print(\"La letra ingresada no es una vocal.\")"
      ],
      "metadata": {
        "colab": {
          "base_uri": "https://localhost:8080/"
        },
        "id": "mourFSSckEtG",
        "outputId": "cbce7bf7-8223-4bdd-98de-6c34dd0775f3"
      },
      "execution_count": null,
      "outputs": [
        {
          "output_type": "stream",
          "name": "stdout",
          "text": [
            "Ingresa una letra: y\n",
            "La letra ingresada no es una vocal.\n"
          ]
        }
      ]
    },
    {
      "cell_type": "code",
      "source": [
        "# Otra manera más compacta de hacerlo:\n",
        "letra = input(\"Ingresa una letra: \")\n",
        "\n",
        "if letra.lower() in ['a', 'e', 'i', 'o', 'u']:\n",
        "    print(\"La letra ingresada es una vocal\")\n",
        "else:\n",
        "    print(\"La letra ingresada no es una vocal\")"
      ],
      "metadata": {
        "colab": {
          "base_uri": "https://localhost:8080/"
        },
        "id": "SovmWE9rlm4G",
        "outputId": "a2e4cb03-fa54-4d37-8628-2e049240c016"
      },
      "execution_count": null,
      "outputs": [
        {
          "output_type": "stream",
          "name": "stdout",
          "text": [
            "Ingresa una letra: e\n",
            "La letra ingresada es una vocal\n"
          ]
        }
      ]
    },
    {
      "cell_type": "markdown",
      "source": [
        "## ➕ Ejercicio 3: Clasificador de números"
      ],
      "metadata": {
        "id": "48spgfW5kRMr"
      }
    },
    {
      "cell_type": "code",
      "source": [
        "# Pedimos un número al usuario. Debemos convertirlo en flotante ya que por defecto la función input retorna strings (cadenas).\n",
        "numero = float(input(\"Ingresa un número: \"))\n",
        "\n",
        "# Si el número es mayor que 0 (positivo), imprimimos por pantalla \"El número es positivo\"\n",
        "if numero > 0:\n",
        "    print(\"El número es positivo\")\n",
        "# Si el número es menor que 0 (negativo), imprimimos por pantalla \"El número es negativo\"\n",
        "elif numero < 0:\n",
        "    print(\"El número es negativo\")\n",
        "# En cualquier otro caso, imprimimos por pantalla \"El número es cero\"\n",
        "else:\n",
        "    print(\"El número es cero\")\n"
      ],
      "metadata": {
        "colab": {
          "base_uri": "https://localhost:8080/"
        },
        "id": "AnEk1ax_kQnP",
        "outputId": "50760633-c3c7-4064-ed9d-3e57aad25a7b"
      },
      "execution_count": null,
      "outputs": [
        {
          "output_type": "stream",
          "name": "stdout",
          "text": [
            "Ingresa un número: 1000\n",
            "El número es positivo\n"
          ]
        }
      ]
    },
    {
      "cell_type": "markdown",
      "source": [
        "## ⚖️ Ejercicio 4: Comparador de números"
      ],
      "metadata": {
        "id": "iEyz82ASmj9e"
      }
    },
    {
      "cell_type": "code",
      "execution_count": null,
      "metadata": {
        "colab": {
          "base_uri": "https://localhost:8080/"
        },
        "id": "h3-LI7G9jRl5",
        "outputId": "618fe1be-9813-46b4-ddee-4f332ee85518"
      },
      "outputs": [
        {
          "output_type": "stream",
          "name": "stdout",
          "text": [
            "Ingresa el primer número: 3\n",
            "Ingresa el segundo número: 2\n",
            "El primer número ingresado es mayor\n"
          ]
        }
      ],
      "source": [
        "# Solicitamos dos números al usuario. Debemos convertirlos en flotante ya que por defecto la función input retorna strings (cadenas).\n",
        "numero_1 = float(input(\"Ingresa el primer número: \"))\n",
        "numero_2 = float(input(\"Ingresa el segundo número: \"))\n",
        "\n",
        "# Si numero_1 es mayor que numero_2, imprimimos por pantalla \"El primer número ingresado es mayor\"\n",
        "if numero_1 > numero_2:\n",
        "    print(\"El primer número ingresado es mayor\")\n",
        "# Si numero_1 es menor que numero_2, imprimimos por pantalla \"El primer número ingresado es menor\"\n",
        "elif numero_1 < numero_2:\n",
        "    print(\"El primer número ingresado es menor\")\n",
        "# En cualquier otro caso, imprimimos por pantalla \"Los números ingresados son iguales\"\n",
        "else:\n",
        "    print(\"Los números ingresados son iguales\")\n"
      ]
    },
    {
      "cell_type": "markdown",
      "source": [
        "## 🌡️ Ejercicio 5: Clima según temperatura"
      ],
      "metadata": {
        "id": "zDM1DBUwnHkG"
      }
    },
    {
      "cell_type": "code",
      "source": [
        "# Pedimos al usuario que ingrese la temperatura actual en °C. Debemos convertirla en flotante ya que por defecto la función input retorna strings (cadenas).\n",
        "temperatura = float(input(\"Ingresa la temperatura actual en °C: \"))\n",
        "\n",
        "# Si la temperatura es menor o igual a 10 °C, imprimimos por pantalla \"Hace frío\"\n",
        "if temperatura <= 10:\n",
        "    print(\"Hace frío\")\n",
        "# Si la temperatura es mayor que 10°C y menor o igual a 25 °C, imprimimos por pantalla \"Está templado\"\n",
        "elif temperatura>10 and temperatura <= 25:\n",
        "    print(\"Está templado\")\n",
        "# En cualquier otro caso, imprimimor por pantalla \"Hace calor\"\n",
        "else:\n",
        "    print(\"Hace calor\")"
      ],
      "metadata": {
        "colab": {
          "base_uri": "https://localhost:8080/"
        },
        "id": "En8KxNxDnQSj",
        "outputId": "57c37846-f1d0-4b5e-81d9-f8a8bec2b2b5"
      },
      "execution_count": null,
      "outputs": [
        {
          "output_type": "stream",
          "name": "stdout",
          "text": [
            "Ingresa la temperatura actual en °C: 34\n",
            "Hace calor\n"
          ]
        }
      ]
    },
    {
      "cell_type": "code",
      "source": [
        "# Otra manera más compacta de hacerlo:\n",
        "temperatura = float(input(\"Ingresa la temperatura actual en °C: \"))\n",
        "\n",
        "if temperatura <= 10:\n",
        "    print(\"Hace frío\")\n",
        "elif temperatura <= 25:  # No es necesario colocar 'temperatura>10' en esta línea ya que al haber escapado del primer if siempre se cumplirá dicha condición\n",
        "    print(\"Está templado\")\n",
        "else:\n",
        "    print(\"Hace calor\")"
      ],
      "metadata": {
        "colab": {
          "base_uri": "https://localhost:8080/"
        },
        "id": "evibLNr9nos1",
        "outputId": "b946bda0-0e0f-4755-c9c0-14f0cf4aa5d2"
      },
      "execution_count": null,
      "outputs": [
        {
          "output_type": "stream",
          "name": "stdout",
          "text": [
            "Ingresa la temperatura actual en °C: 34\n",
            "Hace calor\n"
          ]
        }
      ]
    },
    {
      "cell_type": "markdown",
      "source": [
        "## 🗓️ Ejercicio 6: Detector de años bisiestos"
      ],
      "metadata": {
        "id": "K9oFYXpfoC9V"
      }
    },
    {
      "cell_type": "code",
      "source": [
        "# Pedimos al usuario que ingrese un año. Debemos convertirlo en entero ya que por defecto la función input retorna strings (cadenas).\n",
        "año = int(input(\"Ingresa un año: \"))\n",
        "\n",
        "# Si el año es divisible por 4 pero no por 100, imprimimos por pantalla \"Se ingresó un año bisiesto\"\n",
        "if (año % 4 == 0 and año % 100 != 0):\n",
        "    print(\"Se ingresó un año bisiesto\")\n",
        "# Si el año es divisible por 400, imprimimos por pantalla \"Se ingresó un año bisiesto\"\n",
        "elif (año % 400 == 0):\n",
        "    print(\"Se ingresó un año bisiesto\")\n",
        "# En cualquier otro caso, imprimimos por pantalla \"Se ingresó un año no bisiesto\"\n",
        "else:\n",
        "    print(\"Se ingresó un año no bisiesto\")\n"
      ],
      "metadata": {
        "colab": {
          "base_uri": "https://localhost:8080/"
        },
        "id": "hpvf3H4AoJdN",
        "outputId": "397d19de-5cf5-4f52-80a2-da47772c1b72"
      },
      "execution_count": null,
      "outputs": [
        {
          "output_type": "stream",
          "name": "stdout",
          "text": [
            "Ingresa un año: 2004\n",
            "Se ingresó un año bisiesto\n"
          ]
        }
      ]
    },
    {
      "cell_type": "code",
      "source": [
        "# Otra manera más compacta de hacerlo:\n",
        "año = int(input(\"Ingresa un año: \"))\n",
        "\n",
        "if (año % 4 == 0 and año % 100 != 0) or (año % 400 == 0):  # Colocamos ambas condiciones en una misma línea\n",
        "    print(\"Se ingresó un año bisiesto\")\n",
        "else:\n",
        "    print(\"Se ingresó un año no bisiesto\")"
      ],
      "metadata": {
        "colab": {
          "base_uri": "https://localhost:8080/"
        },
        "id": "7S3lSC5doh68",
        "outputId": "f599b997-c174-4c6c-82a6-4c41fa101484"
      },
      "execution_count": null,
      "outputs": [
        {
          "output_type": "stream",
          "name": "stdout",
          "text": [
            "Ingresa un año: 2004\n",
            "Se ingresó un año bisiesto\n"
          ]
        }
      ]
    },
    {
      "cell_type": "markdown",
      "source": [
        "## 🔤 Ejercicio 7: Ajustador de frases"
      ],
      "metadata": {
        "id": "UDKUHkN3o0hq"
      }
    },
    {
      "cell_type": "code",
      "source": [
        "# Pedimos al usuario que ingrese una frase o palabra\n",
        "texto = input(\"Ingresa una frase o palabra: \")\n",
        "\n",
        "# Verifica la frase ingresada no termina en punto, añadimos un punto al final\n",
        "if not texto.endswith('.'):\n",
        "    texto += '.'\n",
        "\n",
        "# Imprimimos el resultado por pantalla\n",
        "print(\"Resultado:\", texto)"
      ],
      "metadata": {
        "colab": {
          "base_uri": "https://localhost:8080/"
        },
        "id": "Tc_3nhBPo4ws",
        "outputId": "1bea9340-8e2e-46ee-a652-c163988bba41"
      },
      "execution_count": null,
      "outputs": [
        {
          "output_type": "stream",
          "name": "stdout",
          "text": [
            "Ingresa una frase o palabra: Hola.\n",
            "Resultado: Hola.\n"
          ]
        }
      ]
    },
    {
      "cell_type": "markdown",
      "source": [
        "## 🔒 Ejercicio 8: Validador de contraseña segura"
      ],
      "metadata": {
        "id": "6O9QBM7mpH1G"
      }
    },
    {
      "cell_type": "code",
      "source": [
        "# Pedimos al usuario que cree una contraseña\n",
        "contraseña = input(\"Crea una contraseña: \")\n",
        "\n",
        "# Si la contraseña contiene menos de 8 caracteres, imprimimos por pantalla \"La contraseña no es segura.\"\n",
        "if len(contraseña) < 8:\n",
        "    print(\"La contraseña no es segura.\")\n",
        "# Si la contraseña contiene más de 20 caracteres, imprimimos por pantalla \"La contraseña no es segura.\"\n",
        "elif len(contraseña) > 20:\n",
        "    print(\"La contraseña no es segura.\")\n",
        "# Si la contraseña no contiene al menos una letra mayúscula, imprimimos por pantalla \"La contraseña no es segura.\"\n",
        "elif not any(c.isupper() for c in contraseña):\n",
        "    print(\"La contraseña no es segura.\")\n",
        "# Si la contraseña no contiene al menos un dígito, imprimimos por pantalla \"La contraseña no es segura.\"\n",
        "elif not any(c.isdigit() for c in contraseña):\n",
        "    print(\"La contraseña no es segura.\")\n",
        "# En cualquier otro caso, imprimimos por pantalla \"¡Felicitaciones! Creaste tu contraseña.\"\n",
        "else:\n",
        "    print(\"¡Felicitaciones! Creaste tu contraseña.\")"
      ],
      "metadata": {
        "colab": {
          "base_uri": "https://localhost:8080/"
        },
        "id": "5CCZg2Mcqa9E",
        "outputId": "c12684b2-33c0-4953-e180-5286a4486967"
      },
      "execution_count": null,
      "outputs": [
        {
          "output_type": "stream",
          "name": "stdout",
          "text": [
            "Crea una contraseña: holahola0\n",
            "La contraseña no es segura.\n"
          ]
        }
      ]
    },
    {
      "cell_type": "code",
      "source": [
        "# Otra forma de hacerlo:\n",
        "\n",
        "# Pedimos al usuario que cree una contraseña\n",
        "contraseña = input(\"Crea una contraseña: \")\n",
        "\n",
        "# Creamos las condiciones requeridas.\n",
        "# Validación de que la contraseña tenga entre 8 y 20 caracteres (intervalo cerrado)\n",
        "longitud_valida = 8 <= len(contraseña) <= 20\n",
        "# Validación de que la contraseña tenga al menos una letra mayúscula\n",
        "tiene_mayuscula = any(c.isupper() for c in contraseña)\n",
        "# Validación de que la contraseña tenga al menos un dígito\n",
        "tiene_numero = any(c.isdigit() for c in contraseña)\n",
        "\n",
        "# Si se cumplen todas las condiciones a la vez, imprimimos por pantalla \"¡Felicitaciones! Creaste tu contraseña.\"\n",
        "if longitud_valida and tiene_mayuscula and tiene_numero:\n",
        "    print(\"¡Felicitaciones! Creaste tu contraseña.\")\n",
        "# En caso contrario, es decir, si al menos una de las condiciones no se cumple imprimimos por pantalla \"La contraseña no es segura.\"\n",
        "else:\n",
        "    print(\"La contraseña no es segura.\")"
      ],
      "metadata": {
        "colab": {
          "base_uri": "https://localhost:8080/"
        },
        "id": "Sd755i1ipYZD",
        "outputId": "b08ea0c4-07b9-4abf-fcd2-18d93752e7c6"
      },
      "execution_count": null,
      "outputs": [
        {
          "output_type": "stream",
          "name": "stdout",
          "text": [
            "Crea una contraseña: HolaHola0\n",
            "¡Felicitaciones! Creaste tu contraseña.\n"
          ]
        }
      ]
    },
    {
      "cell_type": "markdown",
      "source": [
        "## 💡 Ejercicio 9: Mejorando mensajes de error"
      ],
      "metadata": {
        "id": "wn7Hj6DDp6uc"
      }
    },
    {
      "cell_type": "code",
      "source": [
        "# Pedimos al usuario que cree una contraseña\n",
        "contraseña = input(\"Crea una contraseña: \")\n",
        "\n",
        "# Si la contraseña contiene menos de 8 caracteres, imprimimos por pantalla \"Debe tener al menos 8 caracteres.\"\n",
        "if len(contraseña) < 8:\n",
        "    print(\"Debe tener al menos 8 caracteres.\")\n",
        "# Si la contraseña contiene más de 20 caracteres, imprimimos por pantalla \"No debe tener más de 20 caracteres.\"\n",
        "elif len(contraseña) > 20:\n",
        "    print(\"No debe tener más de 20 caracteres.\")\n",
        "# Si la contraseña no contiene al menos una letra mayúscula, imprimimos por pantalla \"Debe contener al menos una mayúscula.\"\n",
        "elif not any(c.isupper() for c in contraseña):\n",
        "    print(\"Debe contener al menos una mayúscula.\")\n",
        "# Si la contraseña no contiene al menos un dígito, imprimimos por pantalla \"Debe contener al menos un número.\"\n",
        "elif not any(c.isdigit() for c in contraseña):\n",
        "    print(\"Debe contener al menos un número.\")\n",
        "# En cualquier otro caso, imprimimos por pantalla \"¡Felicitaciones! Creaste tu contraseña.\"\n",
        "else:\n",
        "    print(\"¡Felicitaciones! Creaste tu contraseña.\")"
      ],
      "metadata": {
        "colab": {
          "base_uri": "https://localhost:8080/"
        },
        "id": "Za5m5yBap_ye",
        "outputId": "c0a0560f-5c69-4cda-871c-9d665081cfef"
      },
      "execution_count": null,
      "outputs": [
        {
          "output_type": "stream",
          "name": "stdout",
          "text": [
            "Crea una contraseña: holaHola0\n",
            "¡Felicitaciones! Creaste tu contraseña.\n"
          ]
        }
      ]
    },
    {
      "cell_type": "markdown",
      "source": [
        "## ✂️ Ejercicio 10: Piedra, papel o tijera"
      ],
      "metadata": {
        "id": "ijSP3GwUrL-q"
      }
    },
    {
      "cell_type": "code",
      "source": [
        "# Pedimos al usuario que ingrese la elección de los jugadores 1 y 2\n",
        "jugador_1 = input(\"Ingresa PIEDRA/PAPEL/TIJERA para el jugador 1:\")\n",
        "jugador_2 = input(\"Ingresa PIEDRA/PAPEL/TIJERA para el jugador 2:\")\n",
        "\n",
        "# Convertimos todo en minúscula para evitar confusiones al comparar dentro del if\n",
        "jugador_1_minuscula = jugador_1.lower()\n",
        "jugador_2_minuscula = jugador_2.lower()\n",
        "\n",
        "# Si ambos jugadores ingresan lo mismo, hay un empate\n",
        "if jugador_1_minuscula == jugador_2_minuscula:\n",
        "  print(\"Hay un empate\")\n",
        "# Si el jugador 1 ingresa piedra y el jugador 2 ingresa tijera, gana el jugador 1\n",
        "elif jugador_1_minuscula == 'piedra' and jugador_2_minuscula == 'tijera':\n",
        "  print (\"Ganó el jugador 1.\")\n",
        "# Si el jugador 1 ingresa papel y el jugador 2 ingresa piedra, gana el jugador 1\n",
        "elif jugador_1_minuscula == 'papel' and jugador_2_minuscula == 'piedra':\n",
        "  print (\"Ganó el jugador 1.\")\n",
        "# Si el jugador 1 ingresa tijera y el jugador 2 ingresa papel, gana el jugador 1\n",
        "elif jugador_1_minuscula == 'tijera' and jugador_2_minuscula == 'papel':\n",
        "  print (\"Ganó el jugador 1.\")\n",
        "# En cualquier otro caso, gana el jugador 2\n",
        "else:\n",
        "  print (\"Ganó el jugador 2.\")"
      ],
      "metadata": {
        "colab": {
          "base_uri": "https://localhost:8080/"
        },
        "id": "EWnJoMyirWBk",
        "outputId": "33d6a3fc-c0f4-4059-9933-3d8a12472e18"
      },
      "execution_count": null,
      "outputs": [
        {
          "output_type": "stream",
          "name": "stdout",
          "text": [
            "Ingresa PIEDRA/PAPEL/TIJERA para el jugador 1:Piedra\n",
            "Ingresa PIEDRA/PAPEL/TIJERA para el jugador 2:Tijera\n",
            "Ganó el jugador 1.\n"
          ]
        }
      ]
    },
    {
      "cell_type": "code",
      "source": [
        "# Otra manera más compacta de hacerlo:\n",
        "\n",
        "# Pedimos al usuario que ingrese la elección de los jugadores 1 y 2\n",
        "jugador_1 = input(\"Ingresa PIEDRA/PAPEL/TIJERA para el jugador 1:\")\n",
        "jugador_2 = input(\"Ingresa PIEDRA/PAPEL/TIJERA para el jugador 2:\")\n",
        "\n",
        "\n",
        "if jugador_1.lower() == jugador_2.lower():\n",
        "  print(\"Hay un empate\")\n",
        "elif ((jugador_1.lower() == 'piedra' and jugador_2.lower() == 'tijera')\n",
        "  or (jugador_1.lower() == 'papel' and jugador_2.lower() == 'piedra')\n",
        "  or (jugador_1.lower() == 'tijera' and jugador_2.lower() == 'papel')):\n",
        "  print (\"Ganó el jugador 1.\")\n",
        "else:\n",
        "  print (\"Ganó el jugador 2.\")"
      ],
      "metadata": {
        "colab": {
          "base_uri": "https://localhost:8080/"
        },
        "id": "ZXnCLysOsktk",
        "outputId": "1fe486df-15f5-4b1c-8e62-917bbea1bf6a"
      },
      "execution_count": null,
      "outputs": [
        {
          "output_type": "stream",
          "name": "stdout",
          "text": [
            "Ingresa PIEDRA/PAPEL/TIJERA para el jugador 1:Piedra\n",
            "Ingresa PIEDRA/PAPEL/TIJERA para el jugador 2:Piedra\n",
            "Hay un empate\n"
          ]
        }
      ]
    }
  ]
}